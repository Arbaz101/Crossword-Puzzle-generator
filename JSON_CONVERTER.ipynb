{
 "cells": [
  {
   "cell_type": "code",
   "execution_count": 7,
   "metadata": {},
   "outputs": [
    {
     "name": "stdout",
     "output_type": "stream",
     "text": [
      "6\n"
     ]
    }
   ],
   "source": [
    "import json\n",
    "\n",
    "f = open('Crossword JSON generator\\data.json')\n",
    "\n",
    "data = json.load(f)\n",
    "f.close()\n",
    "print(len(data))"
   ]
  },
  {
   "cell_type": "code",
   "execution_count": 8,
   "metadata": {},
   "outputs": [
    {
     "name": "stdout",
     "output_type": "stream",
     "text": [
      "1\n",
      "2\n",
      "3\n",
      "4\n",
      "5\n",
      "6\n"
     ]
    }
   ],
   "source": [
    "for i  in range(len(data)):\n",
    "    print(data[i]['position'])"
   ]
  },
  {
   "cell_type": "code",
   "execution_count": 9,
   "metadata": {},
   "outputs": [],
   "source": [
    "f = open('Crossword JSON generator\\word_clue.json')\n",
    "\n",
    "word_clue_set = json.load(f)\n",
    "f.close()"
   ]
  },
  {
   "cell_type": "code",
   "execution_count": 13,
   "metadata": {},
   "outputs": [
    {
     "data": {
      "text/plain": [
       "'Declared as the National language of India'"
      ]
     },
     "execution_count": 13,
     "metadata": {},
     "output_type": "execute_result"
    }
   ],
   "source": [
    "word_clue_set[0]['clue']"
   ]
  },
  {
   "cell_type": "code",
   "execution_count": 20,
   "metadata": {},
   "outputs": [],
   "source": [
    "width = 15\n",
    "height = 15\n",
    "acrossClues = []\n",
    "downClues = []\n",
    "\n",
    "for i in range(len(data)):\n",
    "    lines = {}\n",
    "    if data[i][\"orientation\"] == \"down\":\n",
    "        lines[\"x\"] = data[i][\"startx\"]\n",
    "        lines[\"y\"] = data[i][\"starty\"]\n",
    "        lines[\"clue\"] = str(data[i][\"position\"]) + \". \" + word_clue_set[i][\"clue\"] + \" (\" + str(len(data[i][\"answer\"])) + \")\"\n",
    "        downClues.append(lines)\n",
    "    elif data[i][\"orientation\"] == \"across\":\n",
    "        lines[\"x\"] = data[i][\"startx\"]\n",
    "        lines[\"y\"] = data[i][\"starty\"]\n",
    "        lines[\"clue\"] = str(data[i][\"position\"]) + \". \" + word_clue_set[i][\"clue\"] + \" (\" + str(len(data[i][\"answer\"])) + \")\"\n",
    "        acrossClues.append(lines)\n",
    "\n",
    "output_json = {}\n",
    "output_json['width'] = width\n",
    "output_json['height'] = height\n",
    "output_json['acrossClues'] = acrossClues\n",
    "output_json['downClues'] = downClues"
   ]
  },
  {
   "cell_type": "code",
   "execution_count": 21,
   "metadata": {},
   "outputs": [
    {
     "data": {
      "text/plain": [
       "{'width': 15,\n",
       " 'height': 15,\n",
       " 'acrossClues': [{'x': 4, 'y': 9, 'clue': '2. Language of United States (7)'},\n",
       "  {'x': 1, 'y': 3, 'clue': '5. Subject of rigit bodies (9)'},\n",
       "  {'x': 5, 'y': 7, 'clue': '6. Subject of circuits, semi-conductors (10)'}],\n",
       " 'downClues': [{'x': 11,\n",
       "   'y': 3,\n",
       "   'clue': '1. Declared as the National language of India (5)'},\n",
       "  {'x': 9, 'y': 5, 'clue': '3. Subject of Formulas, Numbers and Theorems (5)'},\n",
       "  {'x': 7, 'y': 1, 'clue': '4. Subject of research and discoveries (7)'}]}"
      ]
     },
     "execution_count": 21,
     "metadata": {},
     "output_type": "execute_result"
    }
   ],
   "source": [
    "output_json"
   ]
  },
  {
   "cell_type": "code",
   "execution_count": null,
   "metadata": {},
   "outputs": [],
   "source": [
    "with open(r\"crosswords-js\\sample\\crosswords\\converted_json.json\", \"w+\") as f:\n",
    "    json.dump(output_json, f)"
   ]
  },
  {
   "cell_type": "code",
   "execution_count": null,
   "metadata": {},
   "outputs": [],
   "source": []
  },
  {
   "cell_type": "code",
   "execution_count": null,
   "metadata": {},
   "outputs": [],
   "source": []
  },
  {
   "cell_type": "code",
   "execution_count": 17,
   "metadata": {},
   "outputs": [
    {
     "data": {
      "text/plain": [
       "'2. Language of United States (7)'"
      ]
     },
     "execution_count": 17,
     "metadata": {},
     "output_type": "execute_result"
    }
   ],
   "source": []
  }
 ],
 "metadata": {
  "kernelspec": {
   "display_name": "Python 3",
   "language": "python",
   "name": "python3"
  },
  "language_info": {
   "codemirror_mode": {
    "name": "ipython",
    "version": 3
   },
   "file_extension": ".py",
   "mimetype": "text/x-python",
   "name": "python",
   "nbconvert_exporter": "python",
   "pygments_lexer": "ipython3",
   "version": "3.10.6"
  },
  "orig_nbformat": 4,
  "vscode": {
   "interpreter": {
    "hash": "1a11fb3420268ce89e65dd99fdf351db8c8d78ab6eaf0dcf1115be9bfa87c42f"
   }
  }
 },
 "nbformat": 4,
 "nbformat_minor": 2
}
